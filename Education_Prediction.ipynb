{
 "cells": [
  {
   "cell_type": "markdown",
   "id": "097de08e-e733-400a-9203-f66e290cfb70",
   "metadata": {},
   "source": [
    "## Import Packages"
   ]
  },
  {
   "cell_type": "code",
   "execution_count": 1,
   "id": "1294211c-efe9-4d64-882d-13a2ab5388f1",
   "metadata": {},
   "outputs": [],
   "source": [
    "import pandas as pd\n",
    "import numpy as np\n",
    "import matplotlib.pyplot as plt\n",
    "import seaborn as sns\n",
    "from sklearn.tree import DecisionTreeClassifier\n",
    "from sklearn.model_selection import train_test_split, GridSearchCV, RandomizedSearchCV\n",
    "from sklearn import metrics\n",
    "from sklearn.metrics import f1_score, accuracy_score, precision_score, recall_score, classification_report, brier_score_loss\n",
    "import time\n",
    "import json\n",
    "import re\n",
    "from sklearn.preprocessing import OneHotEncoder, OrdinalEncoder\n",
    "from sklearn import datasets\n",
    "import graphviz\n",
    "from sklearn.ensemble import RandomForestClassifier, GradientBoostingClassifier, HistGradientBoostingClassifier, HistGradientBoostingRegressor\n",
    "import xgboost as xgb\n",
    "from sklearn.calibration import CalibratedClassifierCV, CalibrationDisplay\n",
    "from sklearn.tree import plot_tree\n",
    "import rdata"
   ]
  },
  {
   "cell_type": "code",
   "execution_count": 21,
   "id": "e9dc8a78-bf74-4655-a460-8f96cab259c1",
   "metadata": {},
   "outputs": [],
   "source": [
    "import DHL_Data_Challenge_Functions\n",
    "from DHL_Data_Challenge_Functions import *"
   ]
  },
  {
   "cell_type": "markdown",
   "id": "1928f097-c4ca-43d4-ad67-ae4d7542a8ab",
   "metadata": {},
   "source": [
    "## Read data "
   ]
  },
  {
   "cell_type": "code",
   "execution_count": 2,
   "id": "1dbd8a1e-2b8e-4a92-9077-e0cd8a39484f",
   "metadata": {},
   "outputs": [],
   "source": [
    "dfs = [_ for x in range(14)]"
   ]
  },
  {
   "cell_type": "code",
   "execution_count": 3,
   "id": "7d96696b-5089-4d82-8838-f0d94d818591",
   "metadata": {},
   "outputs": [
    {
     "name": "stdout",
     "output_type": "stream",
     "text": [
      "1 31622-0001-Data.rda\n",
      "2 31622-0002-Data.rda\n",
      "3 31622-0003-Data.rda\n",
      "4 31622-0004-Data.rda\n",
      "5 31622-0005-Data.rda\n",
      "6 31622-0006-Data.rda\n",
      "7 31622-0007-Data.rda\n",
      "8 31622-0008-Data.rda\n",
      "9 31622-0009-Data.rda\n",
      "CPU times: total: 2min 18s\n",
      "Wall time: 3min 9s\n"
     ]
    }
   ],
   "source": [
    "%%time\n",
    "for i in range(1,10):\n",
    "    path = '31622-000' + str(i) + '-Data.rda'\n",
    "    datafile_tmp = rdata.read_rda(path)\n",
    "    print(i,path)\n",
    "    df_tmp = datafile_tmp['da31622.000' + str(i)]\n",
    "    dfs[i-1] = df_tmp.copy()"
   ]
  },
  {
   "cell_type": "code",
   "execution_count": 4,
   "id": "31082c92-9cd0-4d5f-b648-05089d39f355",
   "metadata": {},
   "outputs": [
    {
     "name": "stdout",
     "output_type": "stream",
     "text": [
      "10 31622-0010-Data.rda\n",
      "11 31622-0011-Data.rda\n",
      "12 31622-0012-Data.rda\n",
      "13 31622-0013-Data.rda\n",
      "14 31622-0014-Data.rda\n",
      "CPU times: total: 13.8 s\n",
      "Wall time: 20.4 s\n"
     ]
    }
   ],
   "source": [
    "%%time\n",
    "for j in range (10, 15):\n",
    "    path = '31622-00' + str(j) + '-Data.rda'\n",
    "    datafile_tmp = rdata.read_rda(path)\n",
    "    print(j,path)\n",
    "    df_tmp = datafile_tmp['da31622.00' + str(j)]\n",
    "    dfs[j-1] = df_tmp.copy()"
   ]
  },
  {
   "cell_type": "code",
   "execution_count": 6,
   "id": "c91a1de0-d8e1-4d57-ac26-971f01a4ed97",
   "metadata": {
    "scrolled": true
   },
   "outputs": [],
   "source": [
    "overlap = []\n",
    "for i in range(1,13):\n",
    "    for j in range(i+1,14):\n",
    "        overlap_tmp = list(set(dfs[i].columns.to_list()) & set(dfs[j].columns.to_list()))\n",
    "        if len(overlap_tmp) > 0:\n",
    "            overlap.extend(overlap_tmp)"
   ]
  },
  {
   "cell_type": "code",
   "execution_count": 7,
   "id": "17828115-275e-4c96-b827-379afcb3e3cf",
   "metadata": {},
   "outputs": [
    {
     "name": "stdout",
     "output_type": "stream",
     "text": [
      "The number of overlap coloumns between dfs[0] and dfs[ 3 ] is 4759 , while there are 4760 columns in df 3\n",
      "The number of overlap coloumns between dfs[0] and dfs[ 6 ] is 1 , while there are 100 columns in df 6\n",
      "The number of overlap coloumns between dfs[0] and dfs[ 7 ] is 1 , while there are 165 columns in df 7\n",
      "The number of overlap coloumns between dfs[0] and dfs[ 9 ] is 1 , while there are 70 columns in df 9\n",
      "The number of overlap coloumns between dfs[0] and dfs[ 10 ] is 1 , while there are 65 columns in df 10\n",
      "The number of overlap coloumns between dfs[0] and dfs[ 12 ] is 1 , while there are 27 columns in df 12\n",
      "The number of overlap coloumns between dfs[0] and dfs[ 13 ] is 1 , while there are 568 columns in df 13\n"
     ]
    }
   ],
   "source": [
    "not_contained = []\n",
    "for k in range (1,14):\n",
    "    sus_col = list(set(dfs[0].columns.to_list()) & set(dfs[k].columns.to_list()))\n",
    "    if len(sus_col) != len(dfs[k].columns.to_list()):\n",
    "        not_contained.append(k)\n",
    "        print(\"The number of overlap coloumns between dfs[0] and dfs[\",k, \"] is\", len(sus_col), \", while there are\", len(dfs[k].columns.to_list()), \"columns in df\",k)"
   ]
  },
  {
   "cell_type": "code",
   "execution_count": 8,
   "id": "470ac873-82f7-49a4-a642-f14deca651e0",
   "metadata": {},
   "outputs": [
    {
     "name": "stdout",
     "output_type": "stream",
     "text": [
      "The columns that are in dfs[3] but are not included in dfs[0] is: {'D3A1_HM'}\n"
     ]
    }
   ],
   "source": [
    "over_lapped_col_0_3 = list(set(dfs[0].columns.to_list()) & set(dfs[3].columns.to_list()))\n",
    "print(\"The columns that are in dfs[3] but are not included in dfs[0] is:\", set(dfs[3].columns.to_list()) - set(over_lapped_col_0_3))"
   ]
  },
  {
   "cell_type": "code",
   "execution_count": 9,
   "id": "1d1ab475-8936-44b4-8e16-81016fd3c6e1",
   "metadata": {},
   "outputs": [],
   "source": [
    "assert len(overlap) == (13 * 12)/2"
   ]
  },
  {
   "cell_type": "raw",
   "id": "c403a6ba-c869-4dc0-8efa-327000ce1707",
   "metadata": {},
   "source": [
    "All dataframes share the same primary key/foreign key \"IDNUM\";\n",
    "df1 contains all other dfs, except dfs[6], dfs[7], dfs[9], dfs[10], dfs[12], and dfs[13]; \n",
    "df1 does not contain 'D3A1_HM' in dfs[3], which refers to \"a1_hm center serves total a1a to a1f children\" from DS4 - Year 3 Data, 2001-2003."
   ]
  },
  {
   "cell_type": "markdown",
   "id": "b960d5e1-a13a-4f6e-a82c-17c79f28fc08",
   "metadata": {},
   "source": [
    "## Create Mega dataset"
   ]
  },
  {
   "cell_type": "code",
   "execution_count": 10,
   "id": "e8f362f8-2d53-46fb-a372-02754d0d7b1a",
   "metadata": {},
   "outputs": [
    {
     "name": "stdout",
     "output_type": "stream",
     "text": [
      "dfs[ 3 ] length: 4898\n",
      "unique IDNUM: 4898\n",
      "dfs[ 6 ] length: 4898\n",
      "unique IDNUM: 4898\n",
      "dfs[ 7 ] length: 4898\n",
      "unique IDNUM: 4898\n",
      "dfs[ 9 ] length: 4898\n",
      "unique IDNUM: 4898\n",
      "dfs[ 10 ] length: 6926\n",
      "unique IDNUM: 995\n",
      "dfs[ 12 ] length: 740\n",
      "unique IDNUM: 461\n",
      "dfs[ 13 ] length: 4898\n",
      "unique IDNUM: 4898\n"
     ]
    }
   ],
   "source": [
    "for i in not_contained:\n",
    "    print(\"dfs[\",i,\"] length:\", len(dfs[i]))\n",
    "    print(\"unique IDNUM:\", len(dfs[i]['IDNUM'].unique()))"
   ]
  },
  {
   "cell_type": "raw",
   "id": "9d46201d-853c-401a-b4e1-74586d74687a",
   "metadata": {},
   "source": [
    "dfs[10] and df[12] have duplicated primary key \"IDNUM\", even de-duplicated, we lack significant numbers of family responses;\n",
    "For the scope of this study, drop the two datasets.\n",
    "(Future work tbd)"
   ]
  },
  {
   "cell_type": "code",
   "execution_count": 11,
   "id": "3de3e558-2555-4f4b-a17a-b48911279f2d",
   "metadata": {},
   "outputs": [],
   "source": [
    "df_all = dfs[0]\n",
    "for i in [6,7,9,13]:\n",
    "    df_all = pd.merge(df_all, dfs[i], on='IDNUM', how='inner')\n",
    "df_all = pd.concat([df_all, dfs[3]['D3A1_HM']], axis=1)"
   ]
  },
  {
   "cell_type": "markdown",
   "id": "9873c344-e3da-4217-8d24-ecd58d0a9314",
   "metadata": {},
   "source": [
    "## Explore variable categories"
   ]
  },
  {
   "cell_type": "code",
   "execution_count": 14,
   "id": "5eb70111-60ad-4b12-91e0-bbcb93e9802f",
   "metadata": {
    "scrolled": true
   },
   "outputs": [],
   "source": [
    "## categorical columns\n",
    "cat_var = []\n",
    "for col in df_all.columns.to_list():\n",
    "    if df_all[col].astype('object').apply(lambda x: type(x) == str).any():\n",
    "        cat_var.append(col)"
   ]
  },
  {
   "cell_type": "code",
   "execution_count": 15,
   "id": "5bf0f555-27e7-49e7-af27-9039a968a4cd",
   "metadata": {},
   "outputs": [],
   "source": [
    "## numerical columns\n",
    "num_var = []\n",
    "for col in df_all.columns.to_list():\n",
    "    # if type(df_all[col][1]) == np.float64 or type(df_all[col][1]) == float:\n",
    "    if df_all[col].astype('object').apply(lambda x: type(x) == np.float64 or type(x) == float).all():\n",
    "        num_var.append(col)"
   ]
  },
  {
   "cell_type": "code",
   "execution_count": 16,
   "id": "0aad8a00-ac0c-49f7-8fce-8af70c1d9028",
   "metadata": {},
   "outputs": [],
   "source": [
    "assert len(cat_var) + len(num_var) == df_all.shape[1]"
   ]
  },
  {
   "cell_type": "raw",
   "id": "e4bba66d-f9f0-48e4-92d1-157fcc95786a",
   "metadata": {},
   "source": [
    "There's only numerical and categorical values in the dataset (df_all)"
   ]
  },
  {
   "cell_type": "markdown",
   "id": "e7eae93d-5c4b-4fdd-a915-d5373ff55ce7",
   "metadata": {},
   "source": [
    "## Feature engineering and handling missing values"
   ]
  },
  {
   "cell_type": "markdown",
   "id": "7eb6ccfa-f88b-4422-b565-4b6ce4324e06",
   "metadata": {},
   "source": [
    "### Drop NA in target variable 'CK7EDU'. empty, missing, not in wave, refuse, NA, other, skipped  = NA"
   ]
  },
  {
   "cell_type": "raw",
   "id": "6d4282bd-7c0e-4610-a7e8-5812519d2cf2",
   "metadata": {},
   "source": [
    "We defined a function to encode categorical variables using the default choice number(extract the number in the parenthesis), for example: (2) 2 Self-administered web -> 2, (-7)N/A -> NA"
   ]
  },
  {
   "cell_type": "code",
   "execution_count": 22,
   "id": "aa550263-fb4a-43bd-9b80-aae65b073674",
   "metadata": {},
   "outputs": [],
   "source": [
    "df_all['CK7EDU'] = df_all['CK7EDU'].apply(extract_parentheses_content)\n",
    "df_all['CK7EDU'] = df_all['CK7EDU'].apply(is_negative)\n",
    "df_all = df_all[df_all['CK7EDU'].notna()]\n",
    "cat_var.remove('CK7EDU')"
   ]
  },
  {
   "cell_type": "markdown",
   "id": "78d84f6c-11e6-4bd2-b171-67ca5abe25f7",
   "metadata": {},
   "source": [
    "### Encode categorical variables (with parenthesis)"
   ]
  },
  {
   "cell_type": "code",
   "execution_count": 23,
   "id": "a508a743-618f-41ad-87f2-74f59a56e6e5",
   "metadata": {
    "scrolled": true
   },
   "outputs": [],
   "source": [
    "for var in cat_var :\n",
    "    ## remove blank spaces, convert empty strings to NA \n",
    "    df_all[var] = df_all[var].apply(lambda x: x.strip() if type(x) == str else x)\n",
    "    df_all[var] = df_all[var].apply(lambda x: is_empty(x))\n",
    "    \n",
    "    df_all[var] = df_all[var].apply(lambda x: extract_parentheses_content(x))\n",
    "    df_all[var] = df_all[var].apply(lambda x: x.strip() if type(x) == str else x)\n",
    "    df_all[var] = df_all[var].apply(lambda x: is_empty(x))"
   ]
  },
  {
   "cell_type": "markdown",
   "id": "ae84e337-d8a4-4a03-93ed-176dc56bf729",
   "metadata": {},
   "source": [
    "### Drop weights"
   ]
  },
  {
   "cell_type": "code",
   "execution_count": 27,
   "id": "b416d1c2-ac6f-467c-a402-2eef3ea8871b",
   "metadata": {},
   "outputs": [],
   "source": [
    "weight_var = []\n",
    "for var in df_all.columns.to_list():\n",
    "    if 'CITYWT' in str(var) or 'NATWT' in str(var):\n",
    "        weight_var.append(var)"
   ]
  },
  {
   "cell_type": "code",
   "execution_count": 28,
   "id": "eb35eb77-eea1-40c8-930b-15a6da0d9c76",
   "metadata": {},
   "outputs": [
    {
     "name": "stdout",
     "output_type": "stream",
     "text": [
      "droped 2334 weights, now the shape is (2985, 17686)\n"
     ]
    }
   ],
   "source": [
    "df_all = df_all.drop(columns= weight_var)\n",
    "print(\"droped\", len(weight_var), \"weights, now the shape is\", df_all.shape)"
   ]
  },
  {
   "cell_type": "markdown",
   "id": "12bc0d34-2781-48ab-a9d4-14b2605432f0",
   "metadata": {},
   "source": [
    "### Drop age equivalence"
   ]
  },
  {
   "cell_type": "code",
   "execution_count": 31,
   "id": "5d625c66-f87d-43ee-bae7-f5c92ff8c4ad",
   "metadata": {},
   "outputs": [],
   "source": [
    "### We defined a function to find columns with irregular format of age equivalence\n",
    "age_equivalence = find_columns_with_number_dash_number(df_all)"
   ]
  },
  {
   "cell_type": "code",
   "execution_count": 32,
   "id": "66157064-34df-4cd6-8389-41aa8de57136",
   "metadata": {},
   "outputs": [
    {
     "name": "stdout",
     "output_type": "stream",
     "text": [
      "droped 4 age equivalece column, now the shape is (2985, 17682)\n"
     ]
    }
   ],
   "source": [
    "df_all = df_all.drop(columns= age_equivalence)\n",
    "print(\"droped\", len(age_equivalence), \"age equivalece column, now the shape is\", df_all.shape)"
   ]
  },
  {
   "cell_type": "markdown",
   "id": "0ab1f220-5ef2-4230-b270-c46c7139b5f9",
   "metadata": {},
   "source": [
    "### Convert categorical values (without parenthesis) with negative numbers to NaN"
   ]
  },
  {
   "cell_type": "code",
   "execution_count": 34,
   "id": "bf2bccc6-e86f-46b3-8f3b-5fc8eb2857fc",
   "metadata": {},
   "outputs": [],
   "source": [
    "cat_var_wo_parenthesis = []\n",
    "for col in df_all.columns.to_list():\n",
    "    if df_all[col].astype('object').apply(lambda x: type(x) == str).any():\n",
    "        cat_var_wo_parenthesis.append(col)"
   ]
  },
  {
   "cell_type": "code",
   "execution_count": 37,
   "id": "11268aee-ced7-44d8-b017-24b190d524fd",
   "metadata": {},
   "outputs": [],
   "source": [
    "cat_var_wo_parenthesis.remove('IDNUM')\n",
    "for var in cat_var_wo_parenthesis:\n",
    "    df_all[var] = df_all[var].apply(lambda x: encoding(x))"
   ]
  },
  {
   "cell_type": "markdown",
   "id": "897ac334-5aeb-43c2-a00d-9ca731680812",
   "metadata": {},
   "source": [
    "### Convert negative values to NaN, note that all categorical values with parentheses are encoded to numerical values already"
   ]
  },
  {
   "cell_type": "code",
   "execution_count": 39,
   "id": "75b9e297-fed9-4cee-bf20-c6870ebd2329",
   "metadata": {},
   "outputs": [],
   "source": [
    "df_all = df_all.map(is_negative)"
   ]
  },
  {
   "cell_type": "markdown",
   "id": "2dce5bb1-e3d9-4fd2-ae07-27bcc96b2670",
   "metadata": {},
   "source": [
    "### Drop variables with NA count > 20%"
   ]
  },
  {
   "cell_type": "code",
   "execution_count": 44,
   "id": "24cfdc87-4b67-4a33-8d73-0a5d3249a7a3",
   "metadata": {},
   "outputs": [
    {
     "name": "stdout",
     "output_type": "stream",
     "text": [
      "droped 14837 variables, now the shape is (2985, 2845)\n"
     ]
    }
   ],
   "source": [
    "na_columns = df_all.isna().sum()\n",
    "length = len(df_all)\n",
    "columns_with_na = na_columns[na_columns > length * 0.2]\n",
    "columns_to_drop = columns_with_na.index\n",
    "df_all = df_all.drop(columns = columns_to_drop)\n",
    "print(\"droped\", len(columns_to_drop), \"variables, now the shape is\", df_all.shape)"
   ]
  },
  {
   "cell_type": "markdown",
   "id": "e1ca1d64-ec83-491f-926e-a4eb46e0ea33",
   "metadata": {},
   "source": [
    "### convert str(num) back to num"
   ]
  },
  {
   "cell_type": "code",
   "execution_count": 47,
   "id": "41baeb85-d566-436c-b04d-4a3f3943ab5a",
   "metadata": {},
   "outputs": [],
   "source": [
    "## categorical columns left \n",
    "cat_var_left = []\n",
    "for col in df_all.columns.to_list(): \n",
    "        if df_all[col].apply(lambda x: isinstance(x,str)).any():\n",
    "            cat_var_left.append(col)"
   ]
  },
  {
   "cell_type": "code",
   "execution_count": 48,
   "id": "d4f7b23a-8561-424e-831c-61386f67824d",
   "metadata": {},
   "outputs": [
    {
     "data": {
      "text/plain": [
       "['CH5DSPR', 'CH5PPVTPR', 'CH5WJ9PR', 'CH5WJ10PR']"
      ]
     },
     "execution_count": 48,
     "metadata": {},
     "output_type": "execute_result"
    }
   ],
   "source": [
    "cat_var_left.remove('IDNUM')\n",
    "cat_var_left"
   ]
  },
  {
   "cell_type": "raw",
   "id": "f02654da-0de1-484d-8440-04ed675d3b48",
   "metadata": {},
   "source": [
    "'CH5DSPR':Digit Span percentile rank;\n",
    "'CH5PPVTPR':PPVT percentile rank;\n",
    "'CH5WJ9PR': Woodcock Johnson Test 9 percentile rank;\n",
    "'CH5WJ10PR': Woodcock Johnson Test 10 percentile rank\n",
    "These columns still contain strings because they have \"<\" and \">\" symbols"
   ]
  },
  {
   "cell_type": "markdown",
   "id": "f863542c-400f-4afe-ace2-8a753b433b2f",
   "metadata": {},
   "source": [
    "#### convert str(num) back to num, cast \"<0.1\" to 0.9, \">100\" to 100, etc"
   ]
  },
  {
   "cell_type": "code",
   "execution_count": 99,
   "id": "59b0d068-9e50-43c3-96e9-928b5a358fd5",
   "metadata": {},
   "outputs": [],
   "source": [
    "for var in cat_var_left:\n",
    "    df_all[var] = df_all[var].apply(lambda x: float(round_text(x)) if pd.notna(x) else x)"
   ]
  },
  {
   "cell_type": "code",
   "execution_count": 51,
   "id": "b839f543-44ae-48a6-901e-67d6ff5fcb5e",
   "metadata": {
    "scrolled": true
   },
   "outputs": [],
   "source": [
    "cat_var_after = []\n",
    "for col in df_all.columns.to_list(): \n",
    "        if df_all[col].apply(lambda x: isinstance(x,str)).any() or df_all[col].apply(lambda x: isinstance(x,str)).any():\n",
    "            cat_var_after.append(col)"
   ]
  },
  {
   "cell_type": "code",
   "execution_count": 52,
   "id": "74c30176-fc5a-42cb-a29e-a8654c4a0924",
   "metadata": {
    "scrolled": true
   },
   "outputs": [],
   "source": [
    "assert cat_var_after == ['IDNUM']"
   ]
  },
  {
   "cell_type": "raw",
   "id": "55de9822-b2ca-490d-81ed-748c3a7ddd68",
   "metadata": {},
   "source": [
    "All categorical variables has been cleaned."
   ]
  },
  {
   "cell_type": "code",
   "execution_count": 55,
   "id": "a6130786-682d-4b35-a448-0cc1f73e9db9",
   "metadata": {},
   "outputs": [
    {
     "data": {
      "text/plain": [
       "(2985, 2845)"
      ]
     },
     "execution_count": 55,
     "metadata": {},
     "output_type": "execute_result"
    }
   ],
   "source": [
    "df_all.shape"
   ]
  },
  {
   "cell_type": "markdown",
   "id": "1be5595a-ff5a-46f0-914b-339b0eedcb1f",
   "metadata": {},
   "source": [
    "### Correlation "
   ]
  },
  {
   "cell_type": "code",
   "execution_count": 57,
   "id": "d5f62bba-8cbc-4e71-b41c-bf6e5ef0a1da",
   "metadata": {},
   "outputs": [],
   "source": [
    "df_tmp = df_all[['IDNUM','CK7EDU']]\n",
    "df_GPA_PPVT = df_all[['CH5PPVTSS','CH5WJ10SS']]\n",
    "df_all_dep = df_all.drop(['IDNUM','CK7EDU'], axis = 1)"
   ]
  },
  {
   "cell_type": "code",
   "execution_count": 58,
   "id": "488bb113-9a75-4b59-929b-a13af596b31d",
   "metadata": {},
   "outputs": [
    {
     "name": "stdout",
     "output_type": "stream",
     "text": [
      "CPU times: total: 52.5 s\n",
      "Wall time: 1min 13s\n"
     ]
    }
   ],
   "source": [
    "%%time\n",
    "corr_matrix = df_all_dep.corr().abs()\n",
    "upper = corr_matrix.where(np.triu(np.ones(corr_matrix.shape), k=1).astype(bool))"
   ]
  },
  {
   "cell_type": "code",
   "execution_count": 59,
   "id": "0ab878d0-83df-4e8a-b137-cd696428f08f",
   "metadata": {
    "scrolled": true
   },
   "outputs": [],
   "source": [
    "## convert categorical columns to numeric first\n",
    "non_numeric_col = []\n",
    "for var in df_all_dep.columns.to_list():\n",
    "    if pd.api.types.is_numeric_dtype(df_all_dep[var]) == False:\n",
    "        non_numeric_col.append(var)\n",
    "df_all_dep[non_numeric_col] = df_all_dep[non_numeric_col].apply(lambda x: pd.to_numeric(x, errors='coerce') if x.dtype == 'category' else x)\n",
    "\n",
    "## define corr threshold\n",
    "threshold = 0.9\n",
    "to_drop = []\n",
    "\n",
    "for column in upper.columns:\n",
    "    correlated_features_old = [index for index in upper.index if upper.loc[index, column] > threshold]\n",
    "    \n",
    "    # For each highly correlated pair, drop the column with lower variance\n",
    "    for feature in correlated_features_old:        \n",
    "        if df_all_dep[feature].var() < df_all_dep[column].var():\n",
    "            to_drop.append(feature)\n",
    "        else:\n",
    "            to_drop.append(column)"
   ]
  },
  {
   "cell_type": "code",
   "execution_count": 100,
   "id": "48429409-2c4c-435b-8801-7288aaa3242c",
   "metadata": {},
   "outputs": [],
   "source": [
    "to_drop = list(set(to_drop)) ## 190"
   ]
  },
  {
   "cell_type": "code",
   "execution_count": 62,
   "id": "3d563508-9c07-46f6-954f-ce82ee84952a",
   "metadata": {},
   "outputs": [
    {
     "name": "stdout",
     "output_type": "stream",
     "text": [
      "False True True\n",
      "False True True\n"
     ]
    }
   ],
   "source": [
    "print('CH5PPVTPR' in to_drop,'CH5PPVTSS' in to_drop,'CH5PPVTRAW' in to_drop)\n",
    "print('CH5WJ10PR' in to_drop,'CH5WJ10SS' in to_drop,'CH5WJ10RAW' in to_drop)"
   ]
  },
  {
   "cell_type": "markdown",
   "id": "f7048c36-7fd6-4ad1-9317-8340c554f333",
   "metadata": {},
   "source": [
    "#### Hard code to keep 'CH5PPVTSS' and 'CH5WJ10SS'"
   ]
  },
  {
   "cell_type": "code",
   "execution_count": 63,
   "id": "d7965c7c-aaf3-4d90-849a-0d78b5436eef",
   "metadata": {},
   "outputs": [],
   "source": [
    "to_drop.append('CH5PPVTPR')\n",
    "to_drop.remove('CH5PPVTSS')\n",
    "to_drop.append('CH5WJ10PR')\n",
    "to_drop.remove('CH5WJ10SS')"
   ]
  },
  {
   "cell_type": "markdown",
   "id": "292964c1-0af3-4836-8c43-782795fb3f29",
   "metadata": {},
   "source": [
    "### Drop highly correlated columns"
   ]
  },
  {
   "cell_type": "code",
   "execution_count": 66,
   "id": "4d425c7e-3ca1-499a-a87c-439f962c2595",
   "metadata": {},
   "outputs": [],
   "source": [
    "df_all_dep = df_all_dep.drop(columns = to_drop)"
   ]
  },
  {
   "cell_type": "code",
   "execution_count": 69,
   "id": "8513e53a-a909-44bf-8cd3-05354ccfdd42",
   "metadata": {},
   "outputs": [],
   "source": [
    "df_all = pd.concat([df_all_dep, df_tmp], axis=1)"
   ]
  },
  {
   "cell_type": "code",
   "execution_count": 70,
   "id": "b59df85f-b3bf-46d5-aaff-79076c3dc3b0",
   "metadata": {},
   "outputs": [
    {
     "data": {
      "text/plain": [
       "(2985, 2655)"
      ]
     },
     "execution_count": 70,
     "metadata": {},
     "output_type": "execute_result"
    }
   ],
   "source": [
    "df_all.shape"
   ]
  },
  {
   "cell_type": "markdown",
   "id": "7c07fc2a-860e-48a2-b6b3-a0a3ba1186b1",
   "metadata": {},
   "source": [
    "### Impute missing values in 'CH5PPVTSS' and 'CH5WJ10SS' with the group median and plot distribution"
   ]
  },
  {
   "cell_type": "code",
   "execution_count": 71,
   "id": "27adb3cf-d260-43b3-b91c-3bf1fa2a6f32",
   "metadata": {},
   "outputs": [
    {
     "data": {
      "text/plain": [
       "CH5PPVTSS    401\n",
       "CH5WJ10SS    408\n",
       "dtype: int64"
      ]
     },
     "execution_count": 71,
     "metadata": {},
     "output_type": "execute_result"
    }
   ],
   "source": [
    "df_all[['CH5PPVTSS','CH5WJ10SS']].isna().sum()"
   ]
  },
  {
   "cell_type": "code",
   "execution_count": 76,
   "id": "5bdd50bf-a358-48d9-9906-a6cb1954d126",
   "metadata": {},
   "outputs": [],
   "source": [
    "for var in df_GPA_PPVT.columns.to_list():\n",
    "    df_all[var] = df_all.groupby(['CK7EDU'])[var].transform(lambda x: x.fillna(x.median()))"
   ]
  },
  {
   "cell_type": "code",
   "execution_count": 77,
   "id": "c668eaa5-942c-43a5-875d-0927a387a6ad",
   "metadata": {},
   "outputs": [
    {
     "data": {
      "image/png": "[encoded data removed]",
      "text/plain": [
       "<Figure size 1000x600 with 1 Axes>"
      ]
     },
     "metadata": {},
     "output_type": "display_data"
    },
    {
     "data": {
      "image/png": "[encoded data removed]",
      "text/plain": [
       "<Figure size 1000x600 with 1 Axes>"
      ]
     },
     "metadata": {},
     "output_type": "display_data"
    }
   ],
   "source": [
    "plt.figure(figsize=(10, 6))\n",
    "plt.hist(df_all['CH5WJ10SS'], bins=30, edgecolor='black')\n",
    "plt.title('Distribution of Imputed Column')\n",
    "plt.xlabel('Values')\n",
    "plt.ylabel('Frequency')\n",
    "plt.show()\n",
    "\n",
    "plt.figure(figsize=(10, 6))\n",
    "plt.hist(df_all['CH5PPVTSS'], bins=30, edgecolor='black')\n",
    "plt.title('Distribution of Imputed Column')\n",
    "plt.xlabel('Values')\n",
    "plt.ylabel('Frequency')\n",
    "plt.show()\n"
   ]
  },
  {
   "cell_type": "code",
   "execution_count": 78,
   "id": "ba997200-4b6b-4be5-ab46-a9675f6beb3b",
   "metadata": {},
   "outputs": [],
   "source": [
    "assert df_all[['CH5PPVTSS','CH5WJ10SS']].isna().sum().sum() == 0"
   ]
  },
  {
   "cell_type": "markdown",
   "id": "39ca5d26-eccf-48ab-b886-c452d7c4ce48",
   "metadata": {},
   "source": [
    "### Further drop columns withh NA count > 10% "
   ]
  },
  {
   "cell_type": "code",
   "execution_count": 79,
   "id": "5fc24f10-40da-402b-aee7-8e614e2d3fee",
   "metadata": {},
   "outputs": [
    {
     "name": "stdout",
     "output_type": "stream",
     "text": [
      "droped 971 variables, now the shape is (2985, 1684)\n"
     ]
    }
   ],
   "source": [
    "na_columns_cleaned = df_all.isna().sum()\n",
    "length = len(df_all)\n",
    "columns_with_na_cleaned = na_columns_cleaned[na_columns_cleaned > length * 0.1]\n",
    "columns_to_drop_cleaned = columns_with_na_cleaned.index\n",
    "df_all = df_all.drop(columns = columns_to_drop_cleaned)\n",
    "print(\"droped\", len(columns_to_drop_cleaned), \"variables, now the shape is\", df_all.shape)"
   ]
  },
  {
   "cell_type": "markdown",
   "id": "23e3e25f-f176-42fd-abb3-61995bcc4463",
   "metadata": {},
   "source": [
    "#### Impute na with group mean for all the columns with na left"
   ]
  },
  {
   "cell_type": "code",
   "execution_count": 81,
   "id": "be816145-cf27-4c10-aa0d-a1a49aede854",
   "metadata": {},
   "outputs": [],
   "source": [
    "non_numeric_col = []\n",
    "for var in df_all.columns.to_list():\n",
    "    if pd.api.types.is_numeric_dtype(df_all[var]) == False:\n",
    "        non_numeric_col.append(var)\n",
    "non_numeric_col.remove('IDNUM')\n",
    "df_all[non_numeric_col] = df_all[non_numeric_col].apply(lambda x: pd.to_numeric(x, errors='coerce') if x.dtype == 'category' else x)"
   ]
  },
  {
   "cell_type": "code",
   "execution_count": 82,
   "id": "885a99aa-874a-41ef-a4e6-21734928e689",
   "metadata": {},
   "outputs": [],
   "source": [
    "missing_col_cleaned = df_all.isna().sum()\n",
    "col_with_na_cleaned = missing_col_cleaned[missing_col_cleaned > 0].index.to_list()\n",
    "for var in col_with_na_cleaned:\n",
    "    df_all[var] = df_all.groupby(['CK7EDU'])[var].transform(lambda x: x.fillna(x.median()))"
   ]
  },
  {
   "cell_type": "markdown",
   "id": "fb899d37-8d58-470c-97f0-9fb649417fd5",
   "metadata": {},
   "source": [
    "### Dataset cleaning completed"
   ]
  },
  {
   "cell_type": "code",
   "execution_count": 87,
   "id": "525696e0-365a-4ce6-8f44-9d6bafeefd55",
   "metadata": {},
   "outputs": [
    {
     "data": {
      "text/plain": [
       "(2985, 1684)"
      ]
     },
     "execution_count": 87,
     "metadata": {},
     "output_type": "execute_result"
    }
   ],
   "source": [
    "df_all_cleaned = df_all.dropna() ### there's no missing variables, dropna() just in case\n",
    "df_all_cleaned.shape"
   ]
  },
  {
   "cell_type": "code",
   "execution_count": 86,
   "id": "3b022c83-f7e4-4103-bebe-7f07e6587af7",
   "metadata": {},
   "outputs": [],
   "source": [
    "assert df_all_cleaned.isna().sum().sum() == 0"
   ]
  },
  {
   "cell_type": "code",
   "execution_count": 88,
   "id": "b722d946-5f6e-402d-ab9e-5c8d241558b3",
   "metadata": {},
   "outputs": [],
   "source": [
    "df_all_cleaned.to_csv('df_cleaned_final.csv', index = False)"
   ]
  },
  {
   "cell_type": "markdown",
   "id": "f3d377be-d197-41f1-9d37-630faa58b5a9",
   "metadata": {},
   "source": [
    "# Model"
   ]
  },
  {
   "cell_type": "markdown",
   "id": "11b1ccc0-8262-434c-aad9-882186060fe5",
   "metadata": {},
   "source": [
    "### Get target variable "
   ]
  },
  {
   "cell_type": "code",
   "execution_count": 89,
   "id": "0b5d2c47-40b9-46ca-a906-bac25cd33f0c",
   "metadata": {
    "scrolled": true
   },
   "outputs": [],
   "source": [
    "y12 = df_all_cleaned['CK7EDU']\n",
    "X12 = df_all_cleaned.drop(columns = ['CK7EDU','IDNUM'])"
   ]
  },
  {
   "cell_type": "markdown",
   "id": "0f8efeef-3c37-431f-ad3a-049a719fb500",
   "metadata": {},
   "source": [
    "### Random Forest"
   ]
  },
  {
   "cell_type": "code",
   "execution_count": 90,
   "id": "54429c48-6c7a-47dc-a303-cf2200b82ee9",
   "metadata": {},
   "outputs": [
    {
     "data": {
      "image/png": "[encoded data removed]",
      "text/plain": [
       "<Figure size 1000x800 with 1 Axes>"
      ]
     },
     "metadata": {},
     "output_type": "display_data"
    },
    {
     "name": "stdout",
     "output_type": "stream",
     "text": [
      "Fitting 5 folds for each of 144 candidates, totalling 720 fits\n",
      "Best Parameters: {'max_depth': 20, 'min_samples_split': 5, 'n_estimators': 70}\n",
      "Accuracy: 0.9061976549413735\n",
      "Precision: 0.9082870418319847\n",
      "Recall: 0.9061976549413735\n",
      "F1 Score: 0.9060755881067116\n",
      "\n",
      "Classification Report:\n",
      "               precision    recall  f1-score   support\n",
      "\n",
      "         1.0       1.00      1.00      1.00        67\n",
      "         2.0       0.86      0.93      0.89       238\n",
      "         3.0       0.91      0.84      0.87       229\n",
      "         4.0       1.00      0.97      0.98        63\n",
      "\n",
      "    accuracy                           0.91       597\n",
      "   macro avg       0.94      0.93      0.94       597\n",
      "weighted avg       0.91      0.91      0.91       597\n",
      "\n",
      "CPU times: total: 1min 25s\n",
      "Wall time: 2min\n"
     ]
    }
   ],
   "source": [
    "%%time\n",
    "\n",
    "# Train-test split\n",
    "X_train, X_test, y_train, y_test = train_test_split(X12, y12, test_size=0.2, random_state=0)\n",
    "\n",
    "X_train.reset_index(inplace = True, drop = True)\n",
    "y_train = y_train.reset_index(drop = True)\n",
    "X_test.reset_index(inplace = True, drop = True)\n",
    "y_test = y_test.reset_index(drop = True)\n",
    "X_train.shape, y_train.shape\n",
    "\n",
    "# Initialize and fit Random Forest for feature importance\n",
    "rf = RandomForestClassifier(random_state=42)\n",
    "rf.fit(X_train, y_train)\n",
    "\n",
    "# Extract feature importances\n",
    "importance_scores = rf.feature_importances_\n",
    "feature_importances = pd.DataFrame({'Feature': X_train.columns, 'Importance': importance_scores})\n",
    "\n",
    "# Sort features by importance score\n",
    "feature_importances = feature_importances.sort_values(by='Importance', ascending=False)\n",
    "\n",
    "# Select important features \n",
    "IMPORTANCE_CONSTANT = 0.005\n",
    "selected_features = feature_importances[feature_importances['Importance'] > IMPORTANCE_CONSTANT]['Feature']\n",
    "\n",
    "top_20_features = feature_importances.head(20)\n",
    "\n",
    "# Plot the feature importances\n",
    "plt.figure(figsize=(10, 8))\n",
    "plt.barh(top_20_features['Feature'], top_20_features['Importance'])\n",
    "plt.xlabel('Importance')\n",
    "plt.ylabel('Feature')\n",
    "plt.title('Top 20 Important Features from Random Forest')\n",
    "plt.gca().invert_yaxis()  # Invert y-axis to show the most important feature at the top\n",
    "plt.show()\n",
    "\n",
    "\n",
    "# Redefine X_train and X_test with only the selected features\n",
    "X_train_selected = X_train[selected_features]\n",
    "X_test_selected = X_test[selected_features]\n",
    "\n",
    "param_grid = {\n",
    "    'n_estimators': np.arange(10, 81, 10),  # Number of trees\n",
    "    'max_depth': [None, 5, 10, 15, 20,25],  # Depth of trees\n",
    "    'min_samples_split': [2, 5, 10]  # Minimum samples for node split\n",
    "}\n",
    "\n",
    "# Grid Search for hyperparameter tuning\n",
    "grid_search = GridSearchCV(estimator=RandomForestClassifier(random_state=42),\n",
    "                           param_grid=param_grid, \n",
    "                           scoring='f1_weighted', \n",
    "                           cv=5, verbose=1)\n",
    "\n",
    "grid_search.fit(X_train_selected, y_train)\n",
    "\n",
    "# Best parameters and model evaluation\n",
    "best_rf_model = grid_search.best_estimator_\n",
    "print(\"Best Parameters:\", grid_search.best_params_)\n",
    "\n",
    "# Make predictions and evaluate the model\n",
    "y_pred = best_rf_model.predict(X_test_selected)\n",
    "\n",
    "# Evaluation metrics\n",
    "accuracy = accuracy_score(y_test, y_pred)\n",
    "precision = precision_score(y_test, y_pred, average='weighted')\n",
    "recall = recall_score(y_test, y_pred, average='weighted')\n",
    "f1 = f1_score(y_test, y_pred, average='weighted')\n",
    "\n",
    "print(\"Accuracy:\", accuracy)\n",
    "print(\"Precision:\", precision)\n",
    "print(\"Recall:\", recall)\n",
    "print(\"F1 Score:\", f1)\n",
    "print(\"\\nClassification Report:\\n\", classification_report(y_test, y_pred))"
   ]
  },
  {
   "cell_type": "code",
   "execution_count": 91,
   "id": "b0cdc55f-6760-427f-87ac-32172af8f51d",
   "metadata": {},
   "outputs": [],
   "source": [
    "feature_importances_rf = feature_importances.sort_values(by = 'Importance', ascending=False)\n",
    "feature_importances_rf.to_csv('f_i_rf_final.csv',index = False)"
   ]
  },
  {
   "cell_type": "markdown",
   "id": "977673ce-848a-4c29-9ed2-539b5812f8df",
   "metadata": {},
   "source": [
    "## Model Comparison"
   ]
  },
  {
   "cell_type": "markdown",
   "id": "33f38d9f-fc4c-4236-a66d-82276c6ab365",
   "metadata": {},
   "source": [
    "### XGBoost\n"
   ]
  },
  {
   "cell_type": "code",
   "execution_count": 93,
   "id": "f7947eed-decd-440a-a0c5-75c80ac1c7e3",
   "metadata": {},
   "outputs": [
    {
     "data": {
      "image/png": "[encoded data removed]",
      "text/plain": [
       "<Figure size 1000x800 with 1 Axes>"
      ]
     },
     "metadata": {},
     "output_type": "display_data"
    },
    {
     "name": "stdout",
     "output_type": "stream",
     "text": [
      "Fitting 5 folds for each of 108 candidates, totalling 540 fits\n",
      "Best Parameters: {'colsample_bytree': 0.8, 'learning_rate': 0.01, 'max_depth': 5, 'n_estimators': 50, 'subsample': 0.8}\n",
      "Accuracy: 0.897822445561139\n",
      "Precision: 0.8992225277330047\n",
      "Recall: 0.897822445561139\n",
      "F1 Score: 0.8976147188885759\n",
      "\n",
      "Classification Report:\n",
      "               precision    recall  f1-score   support\n",
      "\n",
      "         0.0       1.00      1.00      1.00        67\n",
      "         1.0       0.85      0.91      0.88       238\n",
      "         2.0       0.90      0.83      0.86       229\n",
      "         3.0       1.00      1.00      1.00        63\n",
      "\n",
      "    accuracy                           0.90       597\n",
      "   macro avg       0.94      0.93      0.93       597\n",
      "weighted avg       0.90      0.90      0.90       597\n",
      "\n",
      "CPU times: total: 8min 54s\n",
      "Wall time: 42.7 s\n"
     ]
    }
   ],
   "source": [
    "%%time\n",
    "\n",
    "# Train-test split\n",
    "y12_xgb = y12 - 1 ## for xgboost y, need to encode starting from 0\n",
    "X_train, X_test, y_train, y_test = train_test_split(X12, y12_xgb, test_size=0.2, random_state=0)\n",
    "\n",
    "X_train.reset_index(inplace = True, drop = True)\n",
    "y_train = y_train.reset_index(drop = True)\n",
    "X_test.reset_index(inplace = True, drop = True)\n",
    "y_test = y_test.reset_index(drop = True)\n",
    "X_train.shape, y_train.shape\n",
    "\n",
    "\n",
    "# Train an initial XGBoost model\n",
    "xgb_model = xgb.XGBClassifier(objective='multi:softmax', num_class=3, random_state=42)\n",
    "xgb_model.fit(X_train, y_train)\n",
    "\n",
    "# Extract feature importances\n",
    "importance_scores = xgb_model.feature_importances_\n",
    "feature_importances = pd.DataFrame({'Feature': X_train.columns, 'Importance': importance_scores})\n",
    "\n",
    "# Sort features by importance score\n",
    "feature_importances = feature_importances.sort_values(by='Importance', ascending=False)\n",
    "# print(feature_importances)\n",
    "\n",
    "# Plotting feature importances \n",
    "plt.figure(figsize=(10, 8))\n",
    "plt.barh(feature_importances['Feature'][:20], feature_importances['Importance'][:20])  # Top 20 features\n",
    "plt.xlabel('Importance')\n",
    "plt.ylabel('Feature')\n",
    "plt.title('Top 20 Feature Importances from XGBoost')\n",
    "plt.gca().invert_yaxis()  # Invert y-axis to show the most important feature at the top\n",
    "plt.show()\n",
    "\n",
    "# IMPORTANCE_CONSTANT is defined the same as in Random Forest\n",
    "# Select important features \n",
    "selected_features = feature_importances[feature_importances['Importance'] > IMPORTANCE_CONSTANT]['Feature']  # You can adjust the threshold\n",
    "\n",
    "# Redefine the training and testing sets with only the selected important features\n",
    "X_train_selected = X_train[selected_features]\n",
    "X_test_selected = X_test[selected_features]\n",
    "\n",
    "# Fine-tuning with GridSearchCV on the selected features\n",
    "param_grid = {\n",
    "    'n_estimators': [50, 100],  # Reducing number of trees to control overfitting and speed up training\n",
    "    'max_depth': [3, 5],  # Limiting depth to avoid overfitting with many features\n",
    "    'learning_rate': [0.01, 0.1, 0.2],  # Covering low to moderately high learning rates\n",
    "    'subsample': [0.7, 0.8, 1.0],  # Subsampling to prevent overfitting\n",
    "    'colsample_bytree': [0.7, 0.8, 1.0],  # Controlling the number of features used per tree\n",
    "}\n",
    "\n",
    "# n_estimators: Too many trees can lead to overfitting, especially with many features. Fewer trees keep the model simpler and faster.\n",
    "# max_depth: Limits how deep the trees go. Deeper trees are more prone to overfitting with high-dimensional data (many features).\n",
    "# learning_rate: A lower learning rate ensures gradual updates, preventing the model from converging too quickly and missing optimal solutions.\n",
    "# subsample: Introduces randomness by using only a portion of the training data, which improves generalization.\n",
    "# colsample_bytree: By using a subset of features per tree, the model avoids becoming too dependent on any one feature, thus reducing overfitting risks.\n",
    "    \n",
    "grid_search = GridSearchCV(estimator=xgb.XGBClassifier(objective='multi:softmax', num_class=3, random_state=42), \n",
    "                           param_grid=param_grid, scoring='f1_weighted', cv=5, verbose=1)\n",
    "grid_search.fit(X_train_selected, y_train)\n",
    "\n",
    "# Best parameters\n",
    "best_xgb_model = grid_search.best_estimator_\n",
    "print(\"Best Parameters:\", grid_search.best_params_)\n",
    "\n",
    "# Predictions\n",
    "y_pred = best_xgb_model.predict(X_test_selected)\n",
    "\n",
    "# Evaluation metrics\n",
    "accuracy = accuracy_score(y_test, y_pred)\n",
    "precision = precision_score(y_test, y_pred, average='weighted')\n",
    "recall = recall_score(y_test, y_pred, average='weighted')\n",
    "f1 = f1_score(y_test, y_pred, average='weighted')\n",
    "\n",
    "print(\"Accuracy:\", accuracy)\n",
    "print(\"Precision:\", precision)\n",
    "print(\"Recall:\", recall)\n",
    "print(\"F1 Score:\", f1)\n",
    "print(\"\\nClassification Report:\\n\", classification_report(y_test, y_pred))"
   ]
  },
  {
   "cell_type": "code",
   "execution_count": 94,
   "id": "2245cab8-ad27-4fd1-a7fc-a84951849c4c",
   "metadata": {},
   "outputs": [],
   "source": [
    "feature_importances_xgb = feature_importances.sort_values(by = 'Importance', ascending=False)\n",
    "feature_importances_xgb.to_csv('f_i_xgb_final.csv',index = False)"
   ]
  },
  {
   "cell_type": "markdown",
   "id": "0391353f-ca66-4c18-b87b-84855200642c",
   "metadata": {},
   "source": [
    "'CK5KINT': Constructed -- Did child complete year 9 child survey\n",
    "\n",
    "'M4H3': If needed help during next yr, could you count on someone to loan you $200? --70.9% YES, 12.6% NO\n",
    "\n",
    "XGBOOST: low interpretability"
   ]
  },
  {
   "cell_type": "markdown",
   "id": "55121dd1-d187-459c-9c0a-fb2124950ead",
   "metadata": {},
   "source": [
    "We choose to use RF for its speed and intepretability. Random Forest also performs better with an F1 = 0.91 than XGBoost for this task."
   ]
  },
  {
   "cell_type": "markdown",
   "id": "35e80fbe-f1b0-460a-a794-61a6f9bc1027",
   "metadata": {},
   "source": [
    "## Feature Importance"
   ]
  },
  {
   "cell_type": "code",
   "execution_count": 95,
   "id": "9850a336-451e-45a3-962a-d99843ca2997",
   "metadata": {},
   "outputs": [
    {
     "data": {
      "image/png": "[encoded data removed]",
      "text/plain": [
       "<Figure size 1000x800 with 1 Axes>"
      ]
     },
     "metadata": {},
     "output_type": "display_data"
    }
   ],
   "source": [
    "top_10_features_rf = feature_importances_rf.head(10)\n",
    "\n",
    "# Plot the feature importances\n",
    "plt.figure(figsize=(10, 8))\n",
    "plt.barh(top_10_features_rf['Feature'], top_10_features_rf['Importance'])\n",
    "plt.xlabel('Importance')\n",
    "plt.ylabel('Feature')\n",
    "plt.title('Top 10 Important Features from Random Forest')\n",
    "plt.gca().invert_yaxis()  # Invert y-axis to show the most important feature at the top\n",
    "plt.show()"
   ]
  },
  {
   "cell_type": "code",
   "execution_count": 96,
   "id": "68ecd14f-0ade-49d4-b7d3-fa3e2187ae5a",
   "metadata": {},
   "outputs": [
    {
     "data": {
      "image/png": "[encoded data removed]",
      "text/plain": [
       "<Figure size 1000x800 with 1 Axes>"
      ]
     },
     "metadata": {},
     "output_type": "display_data"
    }
   ],
   "source": [
    "top_10_features_xgb = feature_importances_xgb.head(10)\n",
    "\n",
    "# Plot the feature importances\n",
    "plt.figure(figsize=(10, 8))\n",
    "plt.barh(top_10_features_xgb['Feature'], top_10_features_xgb['Importance'])\n",
    "plt.xlabel('Importance')\n",
    "plt.ylabel('Feature')\n",
    "plt.title('Top 10 Important Features from XGBoost')\n",
    "plt.gca().invert_yaxis()  # Invert y-axis to show the most important feature at the top\n",
    "plt.show()"
   ]
  },
  {
   "cell_type": "code",
   "execution_count": null,
   "id": "85c5580a-ca00-4cee-9d7e-49411a68921d",
   "metadata": {},
   "outputs": [],
   "source": []
  }
 ],
 "metadata": {
  "kernelspec": {
   "display_name": "Python 3 (ipykernel)",
   "language": "python",
   "name": "python3"
  },
  "language_info": {
   "codemirror_mode": {
    "name": "ipython",
    "version": 3
   },
   "file_extension": ".py",
   "mimetype": "text/x-python",
   "name": "python",
   "nbconvert_exporter": "python",
   "pygments_lexer": "ipython3",
   "version": "3.12.6"
  }
 },
 "nbformat": 4,
 "nbformat_minor": 5
}
